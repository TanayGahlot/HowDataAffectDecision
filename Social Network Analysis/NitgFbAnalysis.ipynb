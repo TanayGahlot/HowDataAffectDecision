{
 "metadata": {
  "name": "NitgFbAnalysis"
 }, 
 "nbformat": 2, 
 "worksheets": [
  {
   "cells": [
    {
     "cell_type": "markdown", 
     "source": [
      "//oggpnosn", 
      "//hkhr", 
      "", 
      "using all the analytical power to analyze my facebook network.", 
      "Importing all essential library."
     ]
    }, 
    {
     "cell_type": "code", 
     "collapsed": true, 
     "input": [
      "import networkx as nx ", 
      "import matplotlib.pyplot as plot", 
      "import pylab as pl"
     ], 
     "language": "python", 
     "outputs": [], 
     "prompt_number": 1
    }, 
    {
     "cell_type": "markdown", 
     "source": [
      "initializing graph"
     ]
    }, 
    {
     "cell_type": "code", 
     "collapsed": false, 
     "input": [
      "g=nx.Graph()", 
      "try:g=nx.read_gexf(\"ata.gexf\")", 
      "except:", 
      "    print \"kfdjekf\"", 
      "    ", 
      "    "
     ], 
     "language": "python", 
     "outputs": [
      {
       "output_type": "stream", 
       "stream": "stdout", 
       "text": [
        "kfdjekf"
       ]
      }
     ], 
     "prompt_number": 8
    }, 
    {
     "cell_type": "code", 
     "collapsed": false, 
     "input": [
      "g"
     ], 
     "language": "python", 
     "outputs": [
      {
       "output_type": "pyout", 
       "prompt_number": 9, 
       "text": [
        "<networkx.classes.graph.Graph at 0x4239f90>"
       ]
      }
     ], 
     "prompt_number": 9
    }, 
    {
     "cell_type": "code", 
     "collapsed": true, 
     "input": [], 
     "language": "python", 
     "outputs": []
    }
   ]
  }
 ]
}