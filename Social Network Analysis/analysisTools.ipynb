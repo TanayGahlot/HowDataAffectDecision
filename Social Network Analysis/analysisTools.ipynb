{
 "metadata": {
  "name": "analysisTools"
 }, 
 "nbformat": 2, 
 "worksheets": [
  {
   "cells": [
    {
     "cell_type": "markdown", 
     "source": [
      "//oggpnosn", 
      "//hkhr", 
      "", 
      "Tools for analysis."
     ]
    }, 
    {
     "cell_type": "code", 
     "collapsed": true, 
     "input": [
      "#importing essential library", 
      "import facebook as fb", 
      "import networkx as nx ", 
      "import matplotlib.pyplot as plot", 
      "import random"
     ], 
     "language": "python", 
     "outputs": [], 
     "prompt_number": 99
    }, 
    {
     "cell_type": "markdown", 
     "source": [
      "Loading my facebook graph. To fetch data from facebook one needs to have authorization code. Code can ne obtained in many ways ", 
      "Simplest of that is Graph Explorer tool available at https://developers.facebook.com/tools/explorer/ .Once this code is obtained it has to be passed to ", 
      "facebook.GraphAPI(), which returns a handle through which request can be passed. Using get_object() function request can be made to ", 
      "facebook graph api. Documentation of type of request and permission required are given in facebook developer website.", 
      "Using \"/me/friends\" request friends list can be obtained. Json file is returned by this request which is a python dictionary which ", 
      "can be used like a regular dictionary. Finally edge will be added to the graph using add_edge() which takes name of my friend and our mutual friend.", 
      "Finally this graph is written to Seminar.gexf in gexf format."
     ]
    }, 
    {
     "cell_type": "code", 
     "collapsed": false, 
     "input": [
      "g=nx.Graph()#initializing Graph", 
      "oAuthKey=\"CAACEdEose0cBAMElA55FEyDbEK4ZBzVokbjsxZAcpbrfIT0sCmwCHQIdGnjorYOUZCuDRpOlnlUAmfHc5NvlCKHvQtQVWDbzNlbsaV4Av7ByOa4lm8czXdINAOaZAeJK3erUiVOCFkf1ZBWlahVwtx6q1CUqg1Y2hULZAf57ZBpIxYXYhUKSZAHuKxHv3l6u1Ki54V83ZCD4bRwZDZD\"#key Here", 
      "graph=fb.GraphAPI(oAuthKey)#getting a handle to extract data", 
      "friends=graph.get_object(\"/me/friends\")#fetching my friends list", 
      "friends=friends[\"data\"]#excluding all background information thats of no use", 
      "for friend in friends:#looping through my friends list", 
      "    mutFriends=graph.get_object(\"/\"+friend[\"id\"]+\"/mutualfriends\")[\"data\"]#Making a list of my friends mutual friends list", 
      "    for mutFriend in mutFriends:#looping through my friend's mutual friend's list", 
      "        g.add_edge(friend[\"name\"],mutFriend[\"name\"])#adding my friend and my other friend who are friends with on another", 
      "nx.write_gexf(g,\"Seminar.gexf\") #Saving Graph as Seminar.gexf       ", 
      "        "
     ], 
     "language": "python", 
     "outputs": [
      {
       "ename": "URLError", 
       "evalue": "<urlopen error [Errno -2] Name or service not known>", 
       "output_type": "pyerr", 
       "traceback": [
        "\u001b[0;31m---------------------------------------------------------------------------\u001b[0m\n\u001b[0;31mURLError\u001b[0m                                  Traceback (most recent call last)", 
        "\u001b[0;32m/home/tanay/Desktop/Project/How Data Affect Decision/Social Network Analysis/<ipython-input-100-9f67b877bcc8>\u001b[0m in \u001b[0;36m<module>\u001b[0;34m()\u001b[0m\n\u001b[1;32m      2\u001b[0m \u001b[0moAuthKey\u001b[0m\u001b[0;34m=\u001b[0m\u001b[0;34m\"CAACEdEose0cBAMElA55FEyDbEK4ZBzVokbjsxZAcpbrfIT0sCmwCHQIdGnjorYOUZCuDRpOlnlUAmfHc5NvlCKHvQtQVWDbzNlbsaV4Av7ByOa4lm8czXdINAOaZAeJK3erUiVOCFkf1ZBWlahVwtx6q1CUqg1Y2hULZAf57ZBpIxYXYhUKSZAHuKxHv3l6u1Ki54V83ZCD4bRwZDZD\"\u001b[0m\u001b[0;31m#key Here\u001b[0m\u001b[0;34m\u001b[0m\u001b[0m\n\u001b[1;32m      3\u001b[0m \u001b[0mgraph\u001b[0m\u001b[0;34m=\u001b[0m\u001b[0mfb\u001b[0m\u001b[0;34m.\u001b[0m\u001b[0mGraphAPI\u001b[0m\u001b[0;34m(\u001b[0m\u001b[0moAuthKey\u001b[0m\u001b[0;34m)\u001b[0m\u001b[0;31m#getting a handle to extract data\u001b[0m\u001b[0;34m\u001b[0m\u001b[0m\n\u001b[0;32m----> 4\u001b[0;31m \u001b[0mfriends\u001b[0m\u001b[0;34m=\u001b[0m\u001b[0mgraph\u001b[0m\u001b[0;34m.\u001b[0m\u001b[0mget_object\u001b[0m\u001b[0;34m(\u001b[0m\u001b[0;34m\"/me/friends\"\u001b[0m\u001b[0;34m)\u001b[0m\u001b[0;31m#fetching my friends list\u001b[0m\u001b[0;34m\u001b[0m\u001b[0m\n\u001b[0m\u001b[1;32m      5\u001b[0m \u001b[0mfriends\u001b[0m\u001b[0;34m=\u001b[0m\u001b[0mfriends\u001b[0m\u001b[0;34m[\u001b[0m\u001b[0;34m\"data\"\u001b[0m\u001b[0;34m]\u001b[0m\u001b[0;31m#excluding all background information thats of no use\u001b[0m\u001b[0;34m\u001b[0m\u001b[0m\n\u001b[1;32m      6\u001b[0m \u001b[0;32mfor\u001b[0m \u001b[0mfriend\u001b[0m \u001b[0;32min\u001b[0m \u001b[0mfriends\u001b[0m\u001b[0;34m:\u001b[0m\u001b[0;31m#looping through my friends list\u001b[0m\u001b[0;34m\u001b[0m\u001b[0m\n", 
        "\u001b[0;32m/usr/local/lib/python2.7/dist-packages/facebook.pyc\u001b[0m in \u001b[0;36mget_object\u001b[0;34m(self, id, **args)\u001b[0m\n\u001b[1;32m     97\u001b[0m     \u001b[0;32mdef\u001b[0m \u001b[0mget_object\u001b[0m\u001b[0;34m(\u001b[0m\u001b[0mself\u001b[0m\u001b[0;34m,\u001b[0m \u001b[0mid\u001b[0m\u001b[0;34m,\u001b[0m \u001b[0;34m**\u001b[0m\u001b[0margs\u001b[0m\u001b[0;34m)\u001b[0m\u001b[0;34m:\u001b[0m\u001b[0;34m\u001b[0m\u001b[0m\n\u001b[1;32m     98\u001b[0m         \u001b[0;34m\"\"\"Fetchs the given object from the graph.\"\"\"\u001b[0m\u001b[0;34m\u001b[0m\u001b[0m\n\u001b[0;32m---> 99\u001b[0;31m         \u001b[0;32mreturn\u001b[0m \u001b[0mself\u001b[0m\u001b[0;34m.\u001b[0m\u001b[0mrequest\u001b[0m\u001b[0;34m(\u001b[0m\u001b[0mid\u001b[0m\u001b[0;34m,\u001b[0m \u001b[0margs\u001b[0m\u001b[0;34m)\u001b[0m\u001b[0;34m\u001b[0m\u001b[0m\n\u001b[0m\u001b[1;32m    100\u001b[0m \u001b[0;34m\u001b[0m\u001b[0m\n\u001b[1;32m    101\u001b[0m     \u001b[0;32mdef\u001b[0m \u001b[0mget_objects\u001b[0m\u001b[0;34m(\u001b[0m\u001b[0mself\u001b[0m\u001b[0;34m,\u001b[0m \u001b[0mids\u001b[0m\u001b[0;34m,\u001b[0m \u001b[0;34m**\u001b[0m\u001b[0margs\u001b[0m\u001b[0;34m)\u001b[0m\u001b[0;34m:\u001b[0m\u001b[0;34m\u001b[0m\u001b[0m\n", 
        "\u001b[0;32m/usr/local/lib/python2.7/dist-packages/facebook.pyc\u001b[0m in \u001b[0;36mrequest\u001b[0;34m(self, path, args, post_args)\u001b[0m\n\u001b[1;32m    293\u001b[0m         \u001b[0;32mtry\u001b[0m\u001b[0;34m:\u001b[0m\u001b[0;34m\u001b[0m\u001b[0m\n\u001b[1;32m    294\u001b[0m             file = urllib2.urlopen(\"https://graph.facebook.com/\" + path + \"?\" +\n\u001b[0;32m--> 295\u001b[0;31m                     urllib.urlencode(args), post_data, timeout=self.timeout)\n\u001b[0m\u001b[1;32m    296\u001b[0m         \u001b[0;32mexcept\u001b[0m \u001b[0murllib2\u001b[0m\u001b[0;34m.\u001b[0m\u001b[0mHTTPError\u001b[0m\u001b[0;34m,\u001b[0m \u001b[0me\u001b[0m\u001b[0;34m:\u001b[0m\u001b[0;34m\u001b[0m\u001b[0m\n\u001b[1;32m    297\u001b[0m             \u001b[0mresponse\u001b[0m \u001b[0;34m=\u001b[0m \u001b[0m_parse_json\u001b[0m\u001b[0;34m(\u001b[0m\u001b[0me\u001b[0m\u001b[0;34m.\u001b[0m\u001b[0mread\u001b[0m\u001b[0;34m(\u001b[0m\u001b[0;34m)\u001b[0m\u001b[0;34m)\u001b[0m\u001b[0;34m\u001b[0m\u001b[0m\n", 
        "\u001b[0;32m/usr/lib/python2.7/urllib2.pyc\u001b[0m in \u001b[0;36murlopen\u001b[0;34m(url, data, timeout)\u001b[0m\n\u001b[1;32m    124\u001b[0m     \u001b[0;32mif\u001b[0m \u001b[0m_opener\u001b[0m \u001b[0;32mis\u001b[0m \u001b[0mNone\u001b[0m\u001b[0;34m:\u001b[0m\u001b[0;34m\u001b[0m\u001b[0m\n\u001b[1;32m    125\u001b[0m         \u001b[0m_opener\u001b[0m \u001b[0;34m=\u001b[0m \u001b[0mbuild_opener\u001b[0m\u001b[0;34m(\u001b[0m\u001b[0;34m)\u001b[0m\u001b[0;34m\u001b[0m\u001b[0m\n\u001b[0;32m--> 126\u001b[0;31m     \u001b[0;32mreturn\u001b[0m \u001b[0m_opener\u001b[0m\u001b[0;34m.\u001b[0m\u001b[0mopen\u001b[0m\u001b[0;34m(\u001b[0m\u001b[0murl\u001b[0m\u001b[0;34m,\u001b[0m \u001b[0mdata\u001b[0m\u001b[0;34m,\u001b[0m \u001b[0mtimeout\u001b[0m\u001b[0;34m)\u001b[0m\u001b[0;34m\u001b[0m\u001b[0m\n\u001b[0m\u001b[1;32m    127\u001b[0m \u001b[0;34m\u001b[0m\u001b[0m\n\u001b[1;32m    128\u001b[0m \u001b[0;32mdef\u001b[0m \u001b[0minstall_opener\u001b[0m\u001b[0;34m(\u001b[0m\u001b[0mopener\u001b[0m\u001b[0;34m)\u001b[0m\u001b[0;34m:\u001b[0m\u001b[0;34m\u001b[0m\u001b[0m\n", 
        "\u001b[0;32m/usr/lib/python2.7/urllib2.pyc\u001b[0m in \u001b[0;36mopen\u001b[0;34m(self, fullurl, data, timeout)\u001b[0m\n\u001b[1;32m    398\u001b[0m             \u001b[0mreq\u001b[0m \u001b[0;34m=\u001b[0m \u001b[0mmeth\u001b[0m\u001b[0;34m(\u001b[0m\u001b[0mreq\u001b[0m\u001b[0;34m)\u001b[0m\u001b[0;34m\u001b[0m\u001b[0m\n\u001b[1;32m    399\u001b[0m \u001b[0;34m\u001b[0m\u001b[0m\n\u001b[0;32m--> 400\u001b[0;31m         \u001b[0mresponse\u001b[0m \u001b[0;34m=\u001b[0m \u001b[0mself\u001b[0m\u001b[0;34m.\u001b[0m\u001b[0m_open\u001b[0m\u001b[0;34m(\u001b[0m\u001b[0mreq\u001b[0m\u001b[0;34m,\u001b[0m \u001b[0mdata\u001b[0m\u001b[0;34m)\u001b[0m\u001b[0;34m\u001b[0m\u001b[0m\n\u001b[0m\u001b[1;32m    401\u001b[0m \u001b[0;34m\u001b[0m\u001b[0m\n\u001b[1;32m    402\u001b[0m         \u001b[0;31m# post-process response\u001b[0m\n\u001b[0;34m\u001b[0m\u001b[0m\n", 
        "\u001b[0;32m/usr/lib/python2.7/urllib2.pyc\u001b[0m in \u001b[0;36m_open\u001b[0;34m(self, req, data)\u001b[0m\n\u001b[1;32m    416\u001b[0m         \u001b[0mprotocol\u001b[0m \u001b[0;34m=\u001b[0m \u001b[0mreq\u001b[0m\u001b[0;34m.\u001b[0m\u001b[0mget_type\u001b[0m\u001b[0;34m(\u001b[0m\u001b[0;34m)\u001b[0m\u001b[0;34m\u001b[0m\u001b[0m\n\u001b[1;32m    417\u001b[0m         result = self._call_chain(self.handle_open, protocol, protocol +\n\u001b[0;32m--> 418\u001b[0;31m                                   '_open', req)\n\u001b[0m\u001b[1;32m    419\u001b[0m         \u001b[0;32mif\u001b[0m \u001b[0mresult\u001b[0m\u001b[0;34m:\u001b[0m\u001b[0;34m\u001b[0m\u001b[0m\n\u001b[1;32m    420\u001b[0m             \u001b[0;32mreturn\u001b[0m \u001b[0mresult\u001b[0m\u001b[0;34m\u001b[0m\u001b[0m\n", 
        "\u001b[0;32m/usr/lib/python2.7/urllib2.pyc\u001b[0m in \u001b[0;36m_call_chain\u001b[0;34m(self, chain, kind, meth_name, *args)\u001b[0m\n\u001b[1;32m    376\u001b[0m             \u001b[0mfunc\u001b[0m \u001b[0;34m=\u001b[0m \u001b[0mgetattr\u001b[0m\u001b[0;34m(\u001b[0m\u001b[0mhandler\u001b[0m\u001b[0;34m,\u001b[0m \u001b[0mmeth_name\u001b[0m\u001b[0;34m)\u001b[0m\u001b[0;34m\u001b[0m\u001b[0m\n\u001b[1;32m    377\u001b[0m \u001b[0;34m\u001b[0m\u001b[0m\n\u001b[0;32m--> 378\u001b[0;31m             \u001b[0mresult\u001b[0m \u001b[0;34m=\u001b[0m \u001b[0mfunc\u001b[0m\u001b[0;34m(\u001b[0m\u001b[0;34m*\u001b[0m\u001b[0margs\u001b[0m\u001b[0;34m)\u001b[0m\u001b[0;34m\u001b[0m\u001b[0m\n\u001b[0m\u001b[1;32m    379\u001b[0m             \u001b[0;32mif\u001b[0m \u001b[0mresult\u001b[0m \u001b[0;32mis\u001b[0m \u001b[0;32mnot\u001b[0m \u001b[0mNone\u001b[0m\u001b[0;34m:\u001b[0m\u001b[0;34m\u001b[0m\u001b[0m\n\u001b[1;32m    380\u001b[0m                 \u001b[0;32mreturn\u001b[0m \u001b[0mresult\u001b[0m\u001b[0;34m\u001b[0m\u001b[0m\n", 
        "\u001b[0;32m/usr/lib/python2.7/urllib2.pyc\u001b[0m in \u001b[0;36mhttps_open\u001b[0;34m(self, req)\u001b[0m\n\u001b[1;32m   1213\u001b[0m \u001b[0;34m\u001b[0m\u001b[0m\n\u001b[1;32m   1214\u001b[0m         \u001b[0;32mdef\u001b[0m \u001b[0mhttps_open\u001b[0m\u001b[0;34m(\u001b[0m\u001b[0mself\u001b[0m\u001b[0;34m,\u001b[0m \u001b[0mreq\u001b[0m\u001b[0;34m)\u001b[0m\u001b[0;34m:\u001b[0m\u001b[0;34m\u001b[0m\u001b[0m\n\u001b[0;32m-> 1215\u001b[0;31m             \u001b[0;32mreturn\u001b[0m \u001b[0mself\u001b[0m\u001b[0;34m.\u001b[0m\u001b[0mdo_open\u001b[0m\u001b[0;34m(\u001b[0m\u001b[0mhttplib\u001b[0m\u001b[0;34m.\u001b[0m\u001b[0mHTTPSConnection\u001b[0m\u001b[0;34m,\u001b[0m \u001b[0mreq\u001b[0m\u001b[0;34m)\u001b[0m\u001b[0;34m\u001b[0m\u001b[0m\n\u001b[0m\u001b[1;32m   1216\u001b[0m \u001b[0;34m\u001b[0m\u001b[0m\n\u001b[1;32m   1217\u001b[0m         \u001b[0mhttps_request\u001b[0m \u001b[0;34m=\u001b[0m \u001b[0mAbstractHTTPHandler\u001b[0m\u001b[0;34m.\u001b[0m\u001b[0mdo_request_\u001b[0m\u001b[0;34m\u001b[0m\u001b[0m\n", 
        "\u001b[0;32m/usr/lib/python2.7/urllib2.pyc\u001b[0m in \u001b[0;36mdo_open\u001b[0;34m(self, http_class, req)\u001b[0m\n\u001b[1;32m   1175\u001b[0m         \u001b[0;32mexcept\u001b[0m \u001b[0msocket\u001b[0m\u001b[0;34m.\u001b[0m\u001b[0merror\u001b[0m\u001b[0;34m,\u001b[0m \u001b[0merr\u001b[0m\u001b[0;34m:\u001b[0m \u001b[0;31m# XXX what error?\u001b[0m\u001b[0;34m\u001b[0m\u001b[0m\n\u001b[1;32m   1176\u001b[0m             \u001b[0mh\u001b[0m\u001b[0;34m.\u001b[0m\u001b[0mclose\u001b[0m\u001b[0;34m(\u001b[0m\u001b[0;34m)\u001b[0m\u001b[0;34m\u001b[0m\u001b[0m\n\u001b[0;32m-> 1177\u001b[0;31m             \u001b[0;32mraise\u001b[0m \u001b[0mURLError\u001b[0m\u001b[0;34m(\u001b[0m\u001b[0merr\u001b[0m\u001b[0;34m)\u001b[0m\u001b[0;34m\u001b[0m\u001b[0m\n\u001b[0m\u001b[1;32m   1178\u001b[0m         \u001b[0;32melse\u001b[0m\u001b[0;34m:\u001b[0m\u001b[0;34m\u001b[0m\u001b[0m\n\u001b[1;32m   1179\u001b[0m             \u001b[0;32mtry\u001b[0m\u001b[0;34m:\u001b[0m\u001b[0;34m\u001b[0m\u001b[0m\n", 
        "\u001b[0;31mURLError\u001b[0m: <urlopen error [Errno -2] Name or service not known>"
       ]
      }
     ], 
     "prompt_number": 100
    }, 
    {
     "cell_type": "markdown", 
     "source": [
      "Calculating Degree Centrality. This helps in calculating popularity of a person. Degree centrality is the fraction of nodes connected", 
      "to it. This will help in identifying people who are popular in YOUR network. degree_centrality() return a dictionary object which is sorted", 
      "using sorted() method which takes lambda key as sorting criteria. Then top 10 people in sorted list is printed out. Finally a histogram ", 
      "plot is created using hist() method."
     ]
    }, 
    {
     "cell_type": "code", 
     "collapsed": false, 
     "input": [
      "deg=nx.degree_centrality(g)#getting a dict object", 
      "sorted_deg=sorted(deg,key=lambda x:deg[x])#sorting the dict in ascending order", 
      "print \"Top 10 Celebrity In your network\"", 
      "for i in xrange(1,11):#getting top 10", 
      "    print sorted_deg[-1*i]#printing the ith famous person", 
      "plot.hist(deg.values())    #creating a histogram to get an idea of variance in degree centrality value", 
      "plot.show() #to show the Histogram"
     ], 
     "language": "python", 
     "outputs": [
      {
       "ename": "IndexError", 
       "evalue": "list index out of range", 
       "output_type": "pyerr", 
       "traceback": [
        "\u001b[0;31m---------------------------------------------------------------------------\u001b[0m\n\u001b[0;31mIndexError\u001b[0m                                Traceback (most recent call last)", 
        "\u001b[0;32m/home/tanay/Desktop/Project/How Data Affect Decision/Social Network Analysis/<ipython-input-101-0037f90fd944>\u001b[0m in \u001b[0;36m<module>\u001b[0;34m()\u001b[0m\n\u001b[1;32m      3\u001b[0m \u001b[0;32mprint\u001b[0m \u001b[0;34m\"Top 10 Celebrity In your network\"\u001b[0m\u001b[0;34m\u001b[0m\u001b[0m\n\u001b[1;32m      4\u001b[0m \u001b[0;32mfor\u001b[0m \u001b[0mi\u001b[0m \u001b[0;32min\u001b[0m \u001b[0mrange\u001b[0m\u001b[0;34m(\u001b[0m\u001b[0;36m1\u001b[0m\u001b[0;34m,\u001b[0m\u001b[0;36m11\u001b[0m\u001b[0;34m)\u001b[0m\u001b[0;34m:\u001b[0m\u001b[0;31m#getting top 10\u001b[0m\u001b[0;34m\u001b[0m\u001b[0m\n\u001b[0;32m----> 5\u001b[0;31m     \u001b[0;32mprint\u001b[0m \u001b[0msorted_deg\u001b[0m\u001b[0;34m[\u001b[0m\u001b[0;34m-\u001b[0m\u001b[0;36m1\u001b[0m\u001b[0;34m*\u001b[0m\u001b[0mi\u001b[0m\u001b[0;34m]\u001b[0m\u001b[0;31m#printing the ith famous person\u001b[0m\u001b[0;34m\u001b[0m\u001b[0m\n\u001b[0m\u001b[1;32m      6\u001b[0m \u001b[0mplot\u001b[0m\u001b[0;34m.\u001b[0m\u001b[0mhist\u001b[0m\u001b[0;34m(\u001b[0m\u001b[0mdeg\u001b[0m\u001b[0;34m.\u001b[0m\u001b[0mvalues\u001b[0m\u001b[0;34m(\u001b[0m\u001b[0;34m)\u001b[0m\u001b[0;34m)\u001b[0m    \u001b[0;31m#creating a histogram to get an idea of variance in degree centrality value\u001b[0m\u001b[0;34m\u001b[0m\u001b[0m\n\u001b[1;32m      7\u001b[0m \u001b[0mplot\u001b[0m\u001b[0;34m.\u001b[0m\u001b[0mshow\u001b[0m\u001b[0;34m(\u001b[0m\u001b[0;34m)\u001b[0m \u001b[0;31m#to show the Histogram\u001b[0m\u001b[0;34m\u001b[0m\u001b[0m\n", 
        "\u001b[0;31mIndexError\u001b[0m: list index out of range"
       ]
      }, 
      {
       "output_type": "stream", 
       "stream": "stdout", 
       "text": [
        "Top 10 Celebrity In your network"
       ]
      }
     ], 
     "prompt_number": 101
    }, 
    {
     "cell_type": "markdown", 
     "source": [
      "Calculating Closeness centrality.This gives an idea of closeness a person maintains in your network. ", 
      "This is calculated using closeness_centrality(). This method returns a dictionary object mapping nodes name to their closeness values.", 
      "Sorted() method sorts the dictionary according to the key lambda function provided. In this case values are sorted according to their ", 
      "closeness. Using \"for\" loop sorted_closeness top 10 element are printed out to console. Finally a histogram plot of closeness is plotted to", 
      "estimate the variation in closeness value."
     ]
    }, 
    {
     "cell_type": "code", 
     "collapsed": false, 
     "input": [
      "closeness=nx.closeness_centrality(g)#getting a dict object", 
      "sorted_closeness=sorted(closeness,key=lambda x:closeness[x])#sorting the dict in ascending order", 
      "print \"Top 10 GossipMonger In your network\"", 
      "for i in xrange(1,11):#getting top 10", 
      "    print sorted_closeness[-1*i]#printing the ith gossiper", 
      "plot.hist(closeness.values())    #creating a histogram to get an idea of variance in closeness centrality value", 
      "plot.show() #to show the Histogram"
     ], 
     "language": "python", 
     "outputs": [
      {
       "output_type": "stream", 
       "stream": "stdout", 
       "text": [
        "Top 10 GossipMonger In your network", 
        "Viraj Nayak", 
        "Viresh Vazirani", 
        "Kethzi Gildona Gilbert", 
        "Anil Kumar", 
        "Amey Kamat", 
        "Dwane Almeida", 
        "Leher Rokz", 
        "Sruthi Somanath", 
        "Abhilash Mandal", 
        "Sarvaswa Tandon"
       ]
      }
     ], 
     "prompt_number": 93
    }, 
    {
     "cell_type": "markdown", 
     "source": [
      "Calculating Betweeness Centrality.This gives an information about the most resourcefull people in your network.It is the fraction of shortest path between every pair of nodes that passes through that node.", 
      "This gives an idea of amount of information that could pass through that node in information diffusion process. betweeness_centrality() return ", 
      "a dictionary object mapping node name to their betweeness values. This is sorted using sorted() function according to lambda key.", 
      "Top 10 of values are printed to stdout. Finally Histogram plot of betweness values is plotted."
     ]
    }, 
    {
     "cell_type": "code", 
     "collapsed": false, 
     "input": [
      "bet=nx.betweenness_centrality(g)#getting a dict object", 
      "sorted_bet=sorted(bet,key=lambda x:bet[x])#sorting the dict in ascending order", 
      "print \"Top 10 Resourcefull In your network\"", 
      "for i in range(1,11):#getting top 10", 
      "    print sorted_bet[-1*i]#printing the ith resourceful person", 
      "plot.hist(bet.values())    #creating a histogram to get an idea of variance in degree centrality value", 
      "plot.show() #to show the Histogram"
     ], 
     "language": "python", 
     "outputs": [
      {
       "output_type": "stream", 
       "stream": "stdout", 
       "text": [
        "Top 10 Resourcefull In your network", 
        "Abhinav Pandey", 
        "Kethzi Gildona Gilbert", 
        "Viresh Vazirani", 
        "Sarvaswa Tandon", 
        "Anil Kumar", 
        "Amey Kamat", 
        "Sruthi Somanath", 
        "Viraj Nayak", 
        "Dwane Almeida", 
        "Pankaj Kharkwal"
       ]
      }
     ], 
     "prompt_number": 97
    }, 
    {
     "cell_type": "markdown", 
     "source": [
      "Calulating Page Rank.This was designed orignally by google to rank web pages. pagerank() method returns a dictionary object mapping", 
      "node name to their page rank score which is sorted using python inbuilt sorted() function. Top 10 scorer are printed out to the console.", 
      "Finally histogram plot of page rank score is plotted."
     ]
    }, 
    {
     "cell_type": "code", 
     "collapsed": false, 
     "input": [
      "pr=nx.pagerank(g)#getting a dict object", 
      "sorted_pr=sorted(pr,key=lambda x:pr[x])#sorting the dict in ascending order", 
      "print \"Top 10 Important people In your network\"", 
      "for i in range(1,11):#getting top 10", 
      "    print sorted_pr[-1*i]#printing the ith important person", 
      "plot.hist(pr.values())    #creating a histogram to get an idea of variance in pagerank centrality value", 
      "plot.show() #to show the Histogram"
     ], 
     "language": "python", 
     "outputs": [
      {
       "output_type": "stream", 
       "stream": "stdout", 
       "text": [
        "Top 10 Important people In your network", 
        "Abhinav Pandey", 
        "Kethzi Gildona Gilbert", 
        "Viresh Vazirani", 
        "Sarvaswa Tandon", 
        "Sruthi Somanath", 
        "Viraj Nayak", 
        "Dwane Almeida", 
        "Amey Kamat", 
        "Anil Kumar", 
        "Pankaj Kharkwal"
       ]
      }
     ], 
     "prompt_number": 95
    }, 
    {
     "cell_type": "markdown", 
     "source": [
      "Calculating EigenVector value. This tell about gray cardinal value in my network. Gray cardinal is a person who is connected to most ", 
      "important people in network. Its analogus to Osama Bin Laden who wasn't connected to all people in taliban but few important people.", 
      "Its calculated recursively by associating two paramenter to alpha and beta. Here eigenvector_centrality gives dictionary mapping", 
      "nodes name to their eigenvector value."
     ]
    }, 
    {
     "cell_type": "code", 
     "collapsed": false, 
     "input": [
      "ev=nx.eigenvector_centrality(g)#getting a dict object", 
      "sorted_ev=sorted(ev,key=lambda x:ev[x])#sorting the dict in ascending order", 
      "print \"Top 10 Gray Cardinal In your network\"", 
      "for i in range(1,11):#getting top 10", 
      "    print sorted_ev[-1*i]#printing the ith gray cardinal person", 
      "plot.hist(ev.values())    #creating a histogram to get an idea of variance in eigen vector centrality value", 
      "plot.show() #to show the Histogram"
     ], 
     "language": "python", 
     "outputs": [
      {
       "output_type": "stream", 
       "stream": "stdout", 
       "text": [
        "Top 10 Gray Cardinal In your network", 
        "Viraj Nayak", 
        "Viresh Vazirani", 
        "Kethzi Gildona Gilbert", 
        "Anil Kumar", 
        "Abhilash Mandal", 
        "Prashant Singh", 
        "Gaurav Parihar", 
        "Tejkaran Charan", 
        "Leher Rokz", 
        "Soumik Sinai Pissurlenkar"
       ]
      }
     ], 
     "prompt_number": 62
    }, 
    {
     "cell_type": "markdown", 
     "source": [
      "Comparing Degree, Closeness, Betweeness, PageRank, EigenVector. "
     ]
    }, 
    {
     "cell_type": "code", 
     "collapsed": false, 
     "input": [
      "name1=\"Viraj Nayak\"", 
      "name2=\"Kethzi Gildona Gilbert\"", 
      "print \"Measure     \",name1,\"                \",name2", 
      "print \"Degree:     \",deg[name1],\"\\t\",deg[name2]", 
      "print \"Closeness:  \",closeness[name1],\"\\t\",closeness[name2]", 
      "print \"Betweeness: \",bet[name1],\"\\t\",bet[name2]", 
      "print \"PageRank:   \",pr[name1],\"\\t\",pr[name2]", 
      "print \"EigenVector:\",ev[name1],\"\\t\",ev[name2]"
     ], 
     "language": "python", 
     "outputs": [
      {
       "output_type": "stream", 
       "stream": "stdout", 
       "text": [
        "Measure      Viraj Nayak                  Kethzi Gildona Gilbert", 
        "Degree:      0.800904977376 \t0.760180995475", 
        "Closeness:   0.817817669312 \t0.79185520362", 
        "Betweeness:  0.0325604543322 \t0.0240574781939", 
        "PageRank:    0.0100118051911 \t0.0094562328999", 
        "EigenVector: 0.128395516348 \t0.120852099617"
       ]
      }
     ], 
     "prompt_number": 65
    }, 
    {
     "cell_type": "markdown", 
     "source": [
      "Calculating Connected Subcomponent of my social network."
     ]
    }, 
    {
     "cell_type": "code", 
     "collapsed": false, 
     "input": [
      "components=nx.connected_component_subgraphs(g)", 
      "print \"There are \",len(components),\"component\"", 
      "for component in components:", 
      "    print \"length:\",len(component)"
     ], 
     "language": "python", 
     "outputs": [
      {
       "output_type": "stream", 
       "stream": "stdout", 
       "text": [
        "There are  2 component", 
        "length: 211", 
        "length: 11"
       ]
      }
     ], 
     "prompt_number": 98
    }, 
    {
     "cell_type": "markdown", 
     "source": [
      "Plotting Ego Graph of a person."
     ]
    }, 
    {
     "cell_type": "code", 
     "collapsed": false, 
     "input": [
      "name=\"Abhinav Pandey\"", 
      "ego=nx.ego_graph(g,name,radius=1)", 
      "nx.draw(ego)", 
      "plot.show()", 
      "print \"Clustering:\",nx.clustering(g,name)"
     ], 
     "language": "python", 
     "outputs": [
      {
       "output_type": "stream", 
       "stream": "stdout", 
       "text": [
        "Clustering: 0.608058608059"
       ]
      }
     ], 
     "prompt_number": 94
    }, 
    {
     "cell_type": "markdown", 
     "source": [
      "Calculating Cliques in Graph. These are closed faternity like terrorist organization."
     ]
    }, 
    {
     "cell_type": "code", 
     "collapsed": false, 
     "input": [
      "clique=nx.find_cliques(g)", 
      "clique=list(clique)", 
      "sorted_clique=sorted(clique,key=lambda x:len(x))", 
      "sorted_clique[-1]"
     ], 
     "language": "python", 
     "outputs": [
      {
       "output_type": "pyout", 
       "prompt_number": 89, 
       "text": [
        "['Pavankumar Achary',", 
        " 'Prashant Singh',", 
        " 'Gaurav Parihar',", 
        " 'Abhilash Mandal',", 
        " 'Sanoop Sashindran',", 
        " 'Sagar Sangodkar',", 
        " 'Soumik Sinai Pissurlenkar',", 
        " 'Jayant Bijarnia',", 
        " 'Akash Digwal',", 
        " 'Mansoor Khan',", 
        " 'Nikhil da Rocha',", 
        " 'Ankush Arora',", 
        " 'Mukul Bandodkar',", 
        " 'Anav Sharma',", 
        " 'Amal Roy',", 
        " 'Sachin Varghese',", 
        " 'Shubham Phadte',", 
        " 'Aman Singh',", 
        " 'Lakshmi Damesya',", 
        " 'JagDish Pampad',", 
        " 'Agasti Tari',", 
        " 'Vidhula Pednekar',", 
        " 'Rajesh Gureliya',", 
        " 'Tanvi Kakodkar',", 
        " 'Lakshadeep Naik',", 
        " 'Palaash Gaunekar',", 
        " 'Nitish Yadav',", 
        " 'ShAch NuTul',", 
        " 'Dharma Naik Boukya']"
       ]
      }
     ], 
     "prompt_number": 89
    }, 
    {
     "cell_type": "code", 
     "collapsed": false, 
     "input": [], 
     "language": "python", 
     "outputs": [
      {
       "output_type": "pyout", 
       "prompt_number": 88, 
       "text": [
        "['Satish Elavala',", 
        " 'Ankush Arora',", 
        " 'Akash Digwal',", 
        " 'Sagar Sangodkar',", 
        " 'Mansoor Khan',", 
        " 'Soumik Sinai Pissurlenkar',", 
        " 'Anav Sharma',", 
        " 'Sachin Varghese',", 
        " 'Gaurav Parihar',", 
        " 'Aman Singh',", 
        " 'Abhilash Mandal',", 
        " 'Nitin Bhandari',", 
        " 'Prashant Singh',", 
        " 'Pavankumar Achary',", 
        " 'Mukul Bandodkar',", 
        " 'Sanoop Sashindran',", 
        " 'Nikhil da Rocha',", 
        " 'Shubham Phadte',", 
        " 'Agasti Tari',", 
        " 'Rajesh Gureliya',", 
        " 'Jayant Bijarnia',", 
        " 'Amal Roy',", 
        " 'ShAch NuTul',", 
        " 'Nitish Yadav',", 
        " 'JagDish Pampad',", 
        " 'Tejkaran Charan',", 
        " 'Sumit Sourabh',", 
        " 'Lakshmi Damesya',", 
        " \"N'vyn Ram\"]"
       ]
      }
     ], 
     "prompt_number": 88
    }, 
    {
     "cell_type": "code", 
     "collapsed": true, 
     "input": [], 
     "language": "python", 
     "outputs": []
    }
   ]
  }
 ]
}