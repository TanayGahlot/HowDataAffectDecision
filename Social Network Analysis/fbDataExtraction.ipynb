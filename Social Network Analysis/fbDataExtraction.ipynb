{
 "metadata": {
  "name": "fbDataExtraction"
 }, 
 "nbformat": 2, 
 "worksheets": [
  {
   "cells": [
    {
     "cell_type": "markdown", 
     "source": [
      "//oggpnosn", 
      "//hkhr", 
      "", 
      "Facebook graph analysis ", 
      "", 
      "This is done using facebook sdk for python, networkx, matplotlib."
     ]
    }, 
    {
     "cell_type": "code", 
     "collapsed": true, 
     "input": [
      "import facebook as fb", 
      "import networkx as nx ", 
      "", 
      "g=nx.Graph()", 
      "graph=fb.GraphAPI(\"CAACEdEose0cBAJZBJycYgDKK5lASZAcuZAieDCb6JZBfX84FJc3C3ZAp2xG4nl4Tt1YGYZC8zgxhAbLZCIkMUgWpySIcwGdVL2uk7QfZAFim2xBCOOtIBMlfZBhxWCDE3WUDg1IXekmNvSvEOe4qn4ap4T22rPFhvZBbV9Onzl3EnZCDC4DZCXxyZBqyZBDcasfpXvqrN7GZBj5ClLiwgZDZD\")"
     ], 
     "language": "python", 
     "outputs": [], 
     "prompt_number": 27
    }, 
    {
     "cell_type": "markdown", 
     "source": [
      "Once the graph is initialized.Go bezerk.Get all Your friends."
     ]
    }, 
    {
     "cell_type": "code", 
     "collapsed": true, 
     "input": [
      "friends=graph.get_object(\"/me/friends\")", 
      "friends=friends[\"data\"]"
     ], 
     "language": "python", 
     "outputs": [], 
     "prompt_number": 28
    }, 
    {
     "cell_type": "markdown", 
     "source": [
      "Creating graph using mutual friend."
     ]
    }, 
    {
     "cell_type": "code", 
     "collapsed": true, 
     "input": [
      "for friend in friends:", 
      "    mutFriends=graph.get_object(\"/\"+friend[\"id\"]+\"/mutualfriends\")[\"data\"]", 
      "    for mutFriend in mutFriends:", 
      "        g.add_edge(friend[\"name\"],mutFriend[\"name\"])", 
      "        "
     ], 
     "language": "python", 
     "outputs": [], 
     "prompt_number": 31
    }, 
    {
     "cell_type": "markdown", 
     "source": [
      "Output to gephi to visualize and make sense of Graph. Matplotlib isnt used for visualizing graphs."
     ]
    }, 
    {
     "cell_type": "code", 
     "collapsed": true, 
     "input": [
      "nx.write_gexf(g,\"nitgV1.gexf\")"
     ], 
     "language": "python", 
     "outputs": []
    }
   ]
  }
 ]
}