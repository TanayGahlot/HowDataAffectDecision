{
 "metadata": {
  "name": "multimode "
 }, 
 "nbformat": 2, 
 "worksheets": [
  {
   "cells": [
    {
     "cell_type": "code", 
     "collapsed": true, 
     "input": [
      "#oggpnosn", 
      "#hkhr"
     ], 
     "language": "python", 
     "outputs": [], 
     "prompt_number": 1
    }, 
    {
     "cell_type": "code", 
     "collapsed": true, 
     "input": [
      "import networkx as nx", 
      "import matplotlib.pyplot as plot", 
      "from pymongo import Connection"
     ], 
     "language": "python", 
     "outputs": [], 
     "prompt_number": 2
    }, 
    {
     "cell_type": "code", 
     "collapsed": true, 
     "input": [
      "c=Connection()", 
      "dbh=c[\"Facebook_Friends\"]"
     ], 
     "language": "python", 
     "outputs": [], 
     "prompt_number": 3
    }, 
    {
     "cell_type": "code", 
     "collapsed": false, 
     "input": [
      "g=nx.Graph()", 
      "rec=dbh.friend.find()", 
      "for record in rec:", 
      "    try: ", 
      "        for school in record[\"education\"]:", 
      "            if school[\"school\"][\"name\"]==\"National Institute Of Technology, Goa\":", 
      "                g.add_edge(school[\"school\"][\"name\"],record[\"name\"])", 
      "            ", 
      "    except:", 
      "        print \"failed for:\",record[\"name\"]"
     ], 
     "language": "python", 
     "outputs": [
      {
       "output_type": "stream", 
       "stream": "stdout", 
       "text": [
        "failed for: Anav Sharma", 
        "failed for: Aaron Barreto", 
        "failed for: Saksham Singh", 
        "failed for: Anav Sharma", 
        "failed for: Trishala Sanzgiri", 
        "failed for: Nyeree Viegas", 
        "failed for: Natasha Virginkar", 
        "failed for: Saloni Sardessai", 
        "failed for: Sukanya Phadte", 
        "failed for: Nishita Shetty", 
        "failed for: Atasha D'Mello", 
        "failed for: Elita Astrid Lobo", 
        "failed for: Purva Shingt\u00e9", 
        "failed for: Rutuja Usgaonkar", 
        "failed for: Aseem Gausy", 
        "failed for:"
       ]
      }, 
      {
       "output_type": "stream", 
       "stream": "stdout", 
       "text": [
        " Ishan Borkar", 
        "failed for: Aprajita Dhall", 
        "failed for: Neha Da Rocha", 
        "failed for: Anav Sharma"
       ]
      }
     ], 
     "prompt_number": 51
    }, 
    {
     "cell_type": "code", 
     "collapsed": false, 
     "input": [
      "nx.draw(g)", 
      "plot.show()"
     ], 
     "language": "python", 
     "outputs": [], 
     "prompt_number": 52
    }, 
    {
     "cell_type": "code", 
     "collapsed": true, 
     "input": [], 
     "language": "python", 
     "outputs": []
    }
   ]
  }
 ]
}