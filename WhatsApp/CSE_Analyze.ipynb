{
 "metadata": {
  "name": "CSE_Analyze"
 }, 
 "nbformat": 2, 
 "worksheets": [
  {
   "cells": [
    {
     "cell_type": "markdown", 
     "source": [
      "Analyzing whatsapp cse groups data.", 
      "", 
      "Extracting Data.Parsing Data "
     ]
    }, 
    {
     "cell_type": "code", 
     "collapsed": true, 
     "input": [
      "import nltk", 
      "import copy", 
      "import pandas as pd", 
      "import matplotlib.pyplot as  plot", 
      "import random", 
      "chats=[]", 
      "message={}", 
      "fob=open(\"CSE.txt\",\"r\") ", 
      "for line in fob:", 
      "    message={}", 
      "    index=line.find(\"-\")", 
      "    if index!=-1:", 
      "        time=line[:index]", 
      "        user=line[index+2:line.find(\":\",index)]", 
      "        text=line[line.find(\":\",index)+1:]", 
      "        message={\"time\":time,\"user\":user,\"text\":text}", 
      "        chats.append(message)", 
      "    else:", 
      "        chats[-1][\"text\"]+=\" \"+line", 
      "        "
     ], 
     "language": "python", 
     "outputs": [], 
     "prompt_number": 51
    }, 
    {
     "cell_type": "markdown", 
     "source": [
      "Removing Trivial post by me(\"Tanay Gahlot\")"
     ]
    }, 
    {
     "cell_type": "code", 
     "collapsed": true, 
     "input": [
      "temp_chats=copy.deepcopy(chats)", 
      "for chat in temp_chats:", 
      "    if chat[\"user\"]==\"Tanay Gahlot\":", 
      "        chats.remove(chat)"
     ], 
     "language": "python", 
     "outputs": [], 
     "prompt_number": 3
    }, 
    {
     "cell_type": "markdown", 
     "source": [
      "Calculating the no of posts/user"
     ]
    }, 
    {
     "cell_type": "code", 
     "collapsed": false, 
     "input": [
      "noOfPosts={}", 
      "for chat in chats:", 
      "    if chat[\"user\"] in noOfPosts:", 
      "        noOfPosts[chat[\"user\"]]+=1", 
      "    else:", 
      "        noOfPosts[chat[\"user\"]]=1", 
      "      ", 
      "sorted(noOfPosts,key=lambda x:noOfPosts[x])"
     ], 
     "language": "python", 
     "outputs": [
      {
       "output_type": "pyout", 
       "prompt_number": 4, 
       "text": [
        "['Sanjeev Nadu',", 
        " ' babu',", 
        " 'Narendra',", 
        " 'Anil Nit',", 
        " '\\xe2\\x80\\xaa+91 75 07 388847\\xe2\\x80\\xac',", 
        " 'Dheeraj',", 
        " 'Ketzi',", 
        " 'Saideep Nit',", 
        " 'Amey Kamat',", 
        " 'Sailesh Nitg',", 
        " 'Pankaj',", 
        " 'Abhinav',", 
        " 'Prabhav',", 
        " 'Priyanka',", 
        " 'Tanay Amonkar',", 
        " 'Vidit']"
       ]
      }
     ], 
     "prompt_number": 4
    }, 
    {
     "cell_type": "code", 
     "collapsed": false, 
     "input": [
      "wordCount={}", 
      "allText=''", 
      "for chat in chats:", 
      "    allText+=\" \"+chat[\"text\"]", 
      "fdist=nltk.FreqDist(allText.split())    ", 
      "for word in fdist:", 
      "    if word in wordCount:", 
      "        wordCount[word]+=1", 
      "    else:", 
      "        wordCount[word]=1", 
      "sorted(wordCount,key=lambda x:wordCount[x])[-50:-1]        "
     ], 
     "language": "python", 
     "outputs": [
      {
       "output_type": "pyout", 
       "prompt_number": 5, 
       "text": [
        "['aa',", 
        " 'raha',", 
        " 'vidit',", 
        " 'includes.Anil',", 
        " 'kahaa',", 
        " 'Sic',", 
        " 'How',", 
        " 'at',", 
        " 'test????',", 
        " 'chutoyon',", 
        " 'Singh',", 
        " 'ghosts',", 
        " 'lyk',", 
        " 'Anil',", 
        " 'naa',", 
        " 'grp',", 
        " 'na',", 
        " 'me\\xee\\x84\\x86\\xee\\x84\\x86',", 
        " 'nd',", 
        " 'ne',", 
        " 'excuses',", 
        " 'that',", 
        " 'SHAILESH',", 
        " '\\xee\\x90\\x85\\xee\\x90\\x85',", 
        " 'details',", 
        " 'test',", 
        " 'out',", 
        " 'nt',", 
        " 'Bullshit',", 
        " 'Man',", 
        " '\\xee\\x80\\x8e\\xf0\\x9f\\x98\\x8e',", 
        " 'Yeaah',", 
        " 'ahem',", 
        " 'START',", 
        " 'U',", 
        " 'South',", 
        " 'lagegi',", 
        " 'ghost',", 
        " 'nxt',", 
        " 'land',", 
        " 'Yeaa',", 
        " 'for',", 
        " 'calls',", 
        " 'finally?',", 
        " 'library?',", 
        " 'Yeah',", 
        " 'u',", 
        " 'time',", 
        " 'So']"
       ]
      }
     ], 
     "prompt_number": 5
    }, 
    {
     "cell_type": "markdown", 
     "source": [
      "Analyzing the chat time. "
     ]
    }, 
    {
     "cell_type": "code", 
     "collapsed": false, 
     "input": [
      "times=[]", 
      "for chat in chats:", 
      "    times.append(chat[\"time\"])", 
      "times_temp=pd.to_datetime(times)    ", 
      "ts=pd.Series([1 for i in range(len(times))],index=times_temp)", 
      "ts2=ts.resample(\"D\",how=\"sum\",fill_method=\"ffill\")", 
      "ts2.plot()", 
      "plot.show();"
     ], 
     "language": "python", 
     "outputs": [], 
     "prompt_number": 58
    }, 
    {
     "cell_type": "code", 
     "collapsed": false, 
     "input": [
      "ts[200]"
     ], 
     "language": "python", 
     "outputs": [
      {
       "output_type": "pyout", 
       "prompt_number": 50, 
       "text": [
        "1"
       ]
      }
     ], 
     "prompt_number": 50
    }, 
    {
     "cell_type": "code", 
     "collapsed": true, 
     "input": [
      "plot.show();"
     ], 
     "language": "python", 
     "outputs": [], 
     "prompt_number": 44
    }, 
    {
     "cell_type": "code", 
     "collapsed": true, 
     "input": [], 
     "language": "python", 
     "outputs": []
    }
   ]
  }
 ]
}