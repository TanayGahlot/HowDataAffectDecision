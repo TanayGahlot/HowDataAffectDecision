{
 "metadata": {
  "name": "NITGAnalyze"
 }, 
 "nbformat": 2, 
 "worksheets": [
  {
   "cells": [
    {
     "cell_type": "code", 
     "collapsed": true, 
     "input": [
      "#oggpnosn", 
      "#hkhr", 
      "", 
      "import nltk", 
      "import copy", 
      "import pandas as pd ", 
      "import matplotlib.pyplot as plot"
     ], 
     "language": "python", 
     "outputs": [], 
     "prompt_number": 1
    }, 
    {
     "cell_type": "code", 
     "collapsed": false, 
     "input": [
      "chats=[]", 
      "message={}", 
      "fob=open(\"NITG.txt\",\"r\") ", 
      "for line in fob:", 
      "    message={}", 
      "    index=line.find(\"-\")", 
      "    if index!=-1:", 
      "        time=line[:index]", 
      "        user=line[index+2:line.find(\":\",index)]", 
      "        text=line[line.find(\":\",index)+1:]", 
      "        message={\"time\":time,\"user\":user,\"text\":text}", 
      "        chats.append(message)", 
      "    else:", 
      "        chats[-1][\"text\"]+=\" \"+line", 
      "        "
     ], 
     "language": "python", 
     "outputs": [], 
     "prompt_number": 2
    }, 
    {
     "cell_type": "code", 
     "collapsed": true, 
     "input": [
      "temp_chats=copy.deepcopy(chats)", 
      "for chat in temp_chats:", 
      "    if chat[\"user\"]==\"Tanay Gahlot\":", 
      "        chats.remove(chat)"
     ], 
     "language": "python", 
     "outputs": [], 
     "prompt_number": 3
    }, 
    {
     "cell_type": "code", 
     "collapsed": false, 
     "input": [
      "noOfPosts={}", 
      "for chat in chats:", 
      "    if chat[\"user\"] in noOfPosts:", 
      "        noOfPosts[chat[\"user\"]]+=1", 
      "    else:", 
      "        noOfPosts[chat[\"user\"]]=1", 
      "sorted(noOfPosts,key=lambda x:noOfPosts[x])"
     ], 
     "language": "python", 
     "outputs": [
      {
       "output_type": "pyout", 
       "prompt_number": 4, 
       "text": [
        "['Sonia Gandhi',", 
        " 'the best of india.\\xee\\x84\\x8e\\xee\\x84\\x8e\\xee\\x84\\x8e.',", 
        " '99009 06338',", 
        " 'Swiss Bank',", 
        " 'Anuja Nit',", 
        " 'dispel the deadly stuff) - before you enter the vehicle.',", 
        " 'The waste of India.\\xee\\x94\\xaf\\xee\\x94\\xaf',", 
        " 'The guest of India..\\xee\\x84\\xbe\\xee\\x8c\\x9b\\xf0\\x9f\\x91\\x9e\\xee\\x80\\x87\\xee\\x8c\\x9a',", 
        " 'Abhishek Bachchan',", 
        " 'nd-nand',", 
        " 'Sequel of Ra.One',", 
        " '99645 34667',", 
        " 'Archana Puran Singh',", 
        " ' ',", 
        " 'Comedy Nights with Kapil',", 
        " 'Mamta Banerjee',", 
        " \"Salman Khan's Marriage\",", 
        " 'crores only.',", 
        " 'ausing incidents.',", 
        " '99866 30301',", 
        " 'The taste of India ',", 
        " \" I  '-._    _.._\",", 
        " \",    .'\",", 
        " 'Robert Vadra',", 
        " '000 mg, 40 times the acceptable level.',", 
        " '\\xe2\\x80\\xaa+91 91 58 830527\\xe2\\x80\\xac',", 
        " 'Kasam',", 
        " 'Sachin Tendulkar',", 
        " 'Sunny Leone',", 
        " 'give it some time for the interior to air out ',", 
        " 'Rahul Gandhi',", 
        " 'The paste of India ',", 
        " 'Face Book',", 
        " 'anmohan Singh',", 
        " \"Remo's fb status update\",", 
        " 'Prerana',", 
        " '_.--.',", 
        " '\\xe2\\x80\\xaa+91 77 98 532694\\xe2\\x80\\xac',", 
        " \"so the people get the candidate THEY choose, not one imposed upon them by the party. Then AAP screens this proposed candidate's past, present, reputation, efficiency, morality; asks the public to come up with objections if any [cheating in business, unknown criminal convictions, paternity suits, whatever]; if any of these are proved, this AAP candidate is made to withdraw even at the very last minute [like one was in Delhi].\",", 
        " \"'  LOVE  ' -'  .-'\",", 
        " 'Narendra Modi ',", 
        " '00 mg of Benzene - 8 times the acceptable level.',", 
        " '\\xe2\\x80\\xaa+91 94 05 506846\\xe2\\x80\\xac',", 
        " '',", 
        " 'Sailesh Nitg',", 
        " '\\xe2\\x80\\xaa+91 75 07 388847\\xe2\\x80\\xac',", 
        " '\\xe2\\x80\\xaa+91 95 45 595321\\xe2\\x80\\xac',", 
        " 'Shravan Nit',", 
        " '\\xe2\\x80\\xaa+91 94 20 027143\\xe2\\x80\\xac',", 
        " 'Dheeraj',", 
        " 'Akash Kotha',", 
        " '\\xe2\\x80\\xaa+91 94 20 026900\\xe2\\x80\\xac',", 
        " '\\xe2\\x80\\xaa+91 87 96 486100\\xe2\\x80\\xac',", 
        " 'Anil Nit',", 
        " '\\xe2\\x80\\xaa+91 97 64 265966\\xe2\\x80\\xac',", 
        " 'Priyanka',", 
        " 'Ketzi',", 
        " '\\xe2\\x80\\xaa+91 75 88 673677\\xe2\\x80\\xac',", 
        " 'Narendra',", 
        " '\\xe2\\x80\\xaa+91 94 20 025990\\xe2\\x80\\xac',", 
        " 'Amey Kamat',", 
        " '\\xe2\\x80\\xaa+91 87 96 766869\\xe2\\x80\\xac',", 
        " '\\xe2\\x80\\xaa+91 95 45 032080\\xe2\\x80\\xac',", 
        " 'Saideep Nit',", 
        " '\\xe2\\x80\\xaa+91 94 20 213952\\xe2\\x80\\xac',", 
        " '\\xe2\\x80\\xaa+91 96 37 053589\\xe2\\x80\\xac',", 
        " '\\xe2\\x80\\xaa+91 94 05 193053\\xe2\\x80\\xac',", 
        " '\\xe2\\x80\\xaa+91 94 20 897421\\xe2\\x80\\xac',", 
        " '\\xe2\\x80\\xaa+91 94 04 760132\\xe2\\x80\\xac',", 
        " 'savvy',", 
        " 'Dwane',", 
        " 'Tanay Amonkar',", 
        " 'Prabhav',", 
        " 'Viresh']"
       ]
      }
     ], 
     "prompt_number": 4
    }, 
    {
     "cell_type": "code", 
     "collapsed": false, 
     "input": [
      "times=[]", 
      "for chat in chats:", 
      "    times.append(chat[\"time\"])", 
      "times.remove(\"Should be done in 2 levels only... That's a nand\") ", 
      "times.remove( 'lekin Prakhar maan na padega.....kya lag rha h... :') ", 
      "times=times[:1307]", 
      "times_temp=pd.to_datetime(times)    ", 
      "ts=pd.Series([1 for i in range(len(times))],index=times_temp)", 
      "ts2=ts.resample(\"H\",how=\"sum\",fill_method=\"ffill\")", 
      "ts2.plot()", 
      "plot.show();"
     ], 
     "language": "python", 
     "outputs": [], 
     "prompt_number": 16
    }, 
    {
     "cell_type": "code", 
     "collapsed": true, 
     "input": [], 
     "language": "python", 
     "outputs": []
    }
   ]
  }
 ]
}